{
 "cells": [
  {
   "cell_type": "code",
   "execution_count": null,
   "metadata": {},
   "outputs": [],
   "source": [
    "import plantpredict"
   ]
  },
  {
   "cell_type": "code",
   "execution_count": null,
   "metadata": {},
   "outputs": [],
   "source": [
    "# authenticate using API credentials\n",
    "api = plantpredict.Api(\n",
    "    username=\"insert username here\",\n",
    "    password=\"insert password here\",\n",
    "    client_id=\"insert client_id here\",\n",
    "    client_secret=\"insert client_secret here\"\n",
    ")"
   ]
  },
  {
   "cell_type": "code",
   "execution_count": null,
   "metadata": {},
   "outputs": [],
   "source": [
    "# instantiate a powerplant, specifying its ID and project ID (visible in the URL of that prediction in a web browser\n",
    "# '.../projects/{project_id}/prediction/{id}/').\n",
    "project_id = 13161   # CHANGE TO YOUR PROJECT ID\n",
    "prediction_id = 147813   # CHANGE TO YOUR PREDICTION ID\n",
    "powerplant = api.powerplant(prediction_id=prediction_id, project_id=project_id)"
   ]
  },
  {
   "cell_type": "code",
   "execution_count": null,
   "metadata": {},
   "outputs": [],
   "source": [
    "# retrieve all of the powerplant attributes\n",
    "powerplant.get()"
   ]
  },
  {
   "cell_type": "code",
   "execution_count": null,
   "metadata": {},
   "outputs": [],
   "source": [
    "# get the ID of the module you want to replace the powerplant's current module with (visible in the URL\n",
    "# of that module in a web browser '.../module/{id}/'), and retrieve the module\n",
    "new_module_id = 3047\n",
    "new_module = api.module(id=new_module_id)\n",
    "new_module.get()"
   ]
  },
  {
   "cell_type": "code",
   "execution_count": null,
   "metadata": {},
   "outputs": [],
   "source": [
    "\n",
    "# in order to change the module in Block 1 --> Array 1 --> Inverter A --> DC Field 1,\n",
    "# replace the previous module's data structure, replace the module id, and update the power plant\n",
    "powerplant.blocks[0]['arrays'][0]['inverters'][0]['dc_fields'][0]['module'] = new_module.__dict__\n",
    "powerplant.blocks[0]['arrays'][0]['inverters'][0]['dc_fields'][0]['module_id'] = new_module_id\n",
    "powerplant.update()"
   ]
  }
 ],
 "metadata": {
  "kernelspec": {
   "display_name": "Python 3",
   "language": "python",
   "name": "python3"
  },
  "language_info": {
   "codemirror_mode": {
    "name": "ipython",
    "version": 3
   },
   "file_extension": ".py",
   "mimetype": "text/x-python",
   "name": "python",
   "nbconvert_exporter": "python",
   "pygments_lexer": "ipython3",
   "version": "3.6.9"
  }
 },
 "nbformat": 4,
 "nbformat_minor": 2
}
